{
 "cells": [
  {
   "cell_type": "code",
   "execution_count": 16,
   "metadata": {},
   "outputs": [],
   "source": [
    "from dotenv import load_dotenv\n",
    "load_dotenv()\n",
    "import os\n",
    "\n",
    "api_key = os.getenv(\"OPEN_AI_API_KEY\")"
   ]
  },
  {
   "cell_type": "code",
   "execution_count": 20,
   "metadata": {},
   "outputs": [],
   "source": [
    "from langchain_openai import ChatOpenAI\n",
    "\n",
    "llm = ChatOpenAI(openai_api_key=api_key)"
   ]
  },
  {
   "cell_type": "code",
   "execution_count": 21,
   "metadata": {},
   "outputs": [
    {
     "data": {
      "text/plain": [
       "AIMessage(content='2024년 청년 지원 정책은 아직 발표되지 않았습니다. 하지만 대부분의 정책은 청년들의 일자리 창출, 교육 지원, 주거 지원, 창업 지원 등을 포함하고 있습니다. 이러한 정책은 청년들의 경제적 안정과 미래를 위한 발전을 지원하기 위해 시행됩니다. 또한, 청년들의 다양한 이슈에 대한 지원과 대책 마련도 이루어질 것으로 예상됩니다. 실제로 발표되는 정책에 대해서는 해당 기관이나 정부의 공식 발표를 참고하시는 것이 좋습니다.', response_metadata={'finish_reason': 'stop', 'logprobs': None})"
      ]
     },
     "execution_count": 21,
     "metadata": {},
     "output_type": "execute_result"
    }
   ],
   "source": [
    "llm.invoke(\"2024년 청년 지원 정책에 대하여 알려줘\")\n",
    "# client.chat.completions.create(.............)"
   ]
  },
  {
   "cell_type": "code",
   "execution_count": 22,
   "metadata": {},
   "outputs": [
    {
     "data": {
      "text/plain": [
       "AIMessage(content='? 저는 항상 최신 정보를 기반으로 계속해서 업데이트되고 발전합니다. 새로운 데이터와 정보를 받아들여 새로운 지식을 습득하고 학습할 수 있습니다. 따라서 언제까지의 정보를 기반으로 학습되어 있는지에 대한 정확한 시간을 제시하기는 어렵습니다. 계속해서 새로운 정보를 습득하고 성장하는 것이 저의 목표입니다.', response_metadata={'finish_reason': 'stop', 'logprobs': None})"
      ]
     },
     "execution_count": 22,
     "metadata": {},
     "output_type": "execute_result"
    }
   ],
   "source": [
    "llm.invoke(\"\b너는 언제까지의 정보를 기반으로 학습되어있어\")"
   ]
  },
  {
   "cell_type": "code",
   "execution_count": 24,
   "metadata": {},
   "outputs": [],
   "source": [
    "output = llm.invoke(\"\b너는 어느 시점까지의 정보를 기반으로 학습되어있어\")"
   ]
  },
  {
   "cell_type": "code",
   "execution_count": 25,
   "metadata": {},
   "outputs": [
    {
     "data": {
      "text/plain": [
       "langchain_core.messages.ai.AIMessage"
      ]
     },
     "execution_count": 25,
     "metadata": {},
     "output_type": "execute_result"
    }
   ],
   "source": [
    "type(output)"
   ]
  },
  {
   "cell_type": "code",
   "execution_count": 26,
   "metadata": {},
   "outputs": [],
   "source": [
    "from langchain_core.prompts import ChatPromptTemplate\n",
    "\n",
    "prompt = ChatPromptTemplate.from_messages([\n",
    "    (\"system\", \"넌 청년을 행복하게 하기 위한 정부정책 안내 컨설턴트야.\"),\n",
    "    (\"user\", \"{input}\")\n",
    "])"
   ]
  },
  {
   "cell_type": "code",
   "execution_count": 43,
   "metadata": {},
   "outputs": [],
   "source": [
    "chain = prompt | llm # pipe 연산자"
   ]
  },
  {
   "cell_type": "markdown",
   "metadata": {},
   "source": [
    "# pipe 연산자\n",
    "\n",
    "**`chain = prompt | llm`** 이라는 코드는 Python의 새로운 연산자인 '파이프 연산자'(**`|`**)를 사용한 예시입니다. Python 3.10 버전에서 도입된 이 연산자는 주로 함수 호출을 더 간결하게 표현하기 위해 사용됩니다. 이 연산자를 사용함으로써 코드의 가독성을 향상시키고, 함수를 연속적으로 적용할 때의 표현을 단순화할 수 있습니다.\n",
    "\n",
    "여기서 **`prompt | llm`**은 **`prompt`**라는 객체나 값을 **`llm`**이라는 함수에 \"파이프\"로 전달합니다. 즉, **`llm(prompt)`**와 같은 의미로, **`prompt`**를 **`llm`** 함수의 인자로 넘겨주는 작업을 수행합니다. 이는 UNIX 셸에서 사용되는 파이프(**`|`**)와 유사한 개념으로, 한 명령의 출력을 다른 명령의 입력으로 연결하는 역할을 합니다.\n",
    "\n",
    "Python에서 이 연산자는 주로 데이터 처리 파이프라인을 구축하거나, 여러 함수를 연속적으로 적용해야 할 때 유용하게 사용됩니다. 예를 들어, 데이터를 처리하고 변환하는 여러 단계를 한 줄의 코드로 간결하게 표현할 수 있습니다.\n",
    "\n",
    "단, 이 기능을 사용하기 위해서는 Python 3.10 이상 버전이 필요하며, 사용하는 함수가 이 연산자를 지원하는 방식으로 구현되어 있어야 합니다. 사용자 정의 함수에서도 **`__or__`** 매직 메소드를 구현함으로써 이 연산자를 지원할 수 있습니다."
   ]
  },
  {
   "cell_type": "markdown",
   "metadata": {},
   "source": [
    "## pipe 연산자 예제"
   ]
  },
  {
   "cell_type": "code",
   "execution_count": 40,
   "metadata": {},
   "outputs": [
    {
     "ename": "TypeError",
     "evalue": "unsupported operand type(s) for |: 'list' and 'function'",
     "output_type": "error",
     "traceback": [
      "\u001b[0;31m---------------------------------------------------------------------------\u001b[0m",
      "\u001b[0;31mTypeError\u001b[0m                                 Traceback (most recent call last)",
      "Cell \u001b[0;32mIn[40], line 11\u001b[0m\n\u001b[1;32m      8\u001b[0m numbers \u001b[38;5;241m=\u001b[39m [\u001b[38;5;241m1\u001b[39m, \u001b[38;5;241m2\u001b[39m, \u001b[38;5;241m3\u001b[39m, \u001b[38;5;241m4\u001b[39m]\n\u001b[1;32m     10\u001b[0m \u001b[38;5;66;03m# 파이프 연산자를 사용하여 함수 연결\u001b[39;00m\n\u001b[0;32m---> 11\u001b[0m result \u001b[38;5;241m=\u001b[39m \u001b[43mnumbers\u001b[49m\u001b[43m \u001b[49m\u001b[38;5;241;43m|\u001b[39;49m\u001b[43m \u001b[49m\u001b[43msquare_numbers\u001b[49m \u001b[38;5;241m|\u001b[39m sum_numbers\n\u001b[1;32m     13\u001b[0m \u001b[38;5;28mprint\u001b[39m(result)  \u001b[38;5;66;03m# 출력: 30\u001b[39;00m\n",
      "\u001b[0;31mTypeError\u001b[0m: unsupported operand type(s) for |: 'list' and 'function'"
     ]
    }
   ],
   "source": [
    "def square_numbers(numbers):\n",
    "    return [n ** 2 for n in numbers]\n",
    "\n",
    "def sum_numbers(numbers):\n",
    "    return sum(numbers)\n",
    "\n",
    "# 숫자 리스트\n",
    "numbers = [1, 2, 3, 4]\n",
    "\n",
    "# 파이프 연산자를 사용하여 함수 연결\n",
    "result = numbers | square_numbers | sum_numbers\n",
    "\n",
    "print(result)  # 출력: 30"
   ]
  },
  {
   "cell_type": "code",
   "execution_count": 45,
   "metadata": {},
   "outputs": [
    {
     "data": {
      "text/plain": [
       "AIMessage(content='2024년 청년을 지원하기 위한 정부 정책에는 다양한 내용이 포함될 수 있습니다. 일반적으로 청년들의 취업 기회 확대, 주거 안정, 교육 지원, 창업 지원 등이 포함될 수 있습니다. \\n\\n1. 취업 기회 확대: 청년들의 취업 기회를 늘리기 위해 공공부문과 민간부문에서의 일자리 창출을 촉진하는 정책이 시행될 수 있습니다. 또한 교육·기술 향상 및 직업훈련을 통해 청년들의 취업 기회를 지원할 수 있습니다.\\n\\n2. 주거 안정: 청년들의 주거 안정을 위해 저렴한 주택 공급 및 임대주택 지원 정책을 시행할 수 있습니다. 또한 청년들을 위한 주거 보증 보험 제도나 임대 보증금 대출 지원 등이 강화될 수 있습니다.\\n\\n3. 교육 지원: 교육 비용 부담 완화를 위해 장학금 확대나 교육 로애 전담 기관을 통한 교육 지원 프로그램이 강화될 수 있습니다. 또한 진로·취업 상담 및 진로 교육 프로그램을 지원할 수 있습니다.\\n\\n4. 창업 지원: 청년 창업을 촉진하기 위해 창업자금 지원, 창업 교육 및 멘토링 프로그램을 제공할 수 있습니다. 또한 벤처기업 육성을 위한 세제 혜택이나 창업 생태계 조성을 위한 정책이 시행될 수 있습니다.\\n\\n이 외에도 청년들의 복지 향상을 위한 다양한 정책이 시행될 수 있으며, 정부가 발표하는 공식적인 정책 방향을 참고하시면 더 자세한 내용을 확인하실 수 있을 것입니다.', response_metadata={'finish_reason': 'stop', 'logprobs': None})"
      ]
     },
     "execution_count": 45,
     "metadata": {},
     "output_type": "execute_result"
    }
   ],
   "source": [
    "chain.invoke({\"input\": \"2024년 청년 지원 정책에 대해 알려줘\"})"
   ]
  },
  {
   "cell_type": "markdown",
   "metadata": {},
   "source": [
    "# 파싱하기"
   ]
  },
  {
   "cell_type": "code",
   "execution_count": 46,
   "metadata": {},
   "outputs": [],
   "source": [
    "from langchain_core.output_parsers import StrOutputParser\n",
    "output_parser = StrOutputParser()\n",
    "\n",
    "chain = prompt | llm | output_parser"
   ]
  },
  {
   "cell_type": "code",
   "execution_count": 47,
   "metadata": {},
   "outputs": [
    {
     "data": {
      "text/plain": [
       "'2024년 청년을 지원하기 위한 정부정책은 아직 발표되지 않았습니다. 하지만 과거에 시행된 정책들을 참고하여 예상되는 내용을 알려드릴게요.\\n\\n1. 청년 일자리 창출: 청년들을 위한 취업 기회를 확대하기 위해 공공부문과 민간부문에서의 일자리 창출을 촉진할 것으로 예상됩니다. 특히 청년들의 창의력과 역량을 살려 새로운 산업 분야나 트렌드에 맞는 일자리가 확대될 것으로 예상됩니다.\\n\\n2. 교육 지원: 청년들의 교육 기회를 늘리고 진로 지원을 강화하는 정책이 시행될 것으로 예상됩니다. 학비 지원, 진로 상담, 직업 교육 프로그램 등을 통해 청년들의 교육 환경이 개선될 것으로 예상됩니다.\\n\\n3. 주거 지원: 청년들의 주거 문제를 해결하기 위한 정책도 시행될 것으로 예상됩니다. 저렴한 주택 공급 확대, 전세대출 지원, 청년 주거 안정화 프로그램 등을 통해 청년들의 주거 환경이 개선될 것으로 예상됩니다.\\n\\n4. 스타트업 지원: 청년 창업가들을 지원하기 위한 프로그램이 확대되고 강화될 것으로 예상됩니다. 청년 창업을 촉진하기 위한 자금 지원, 멘토링 프로그램, 창업 교육 등이 제공될 것으로 예상됩니다.\\n\\n이렇게 2024년에도 청년을 지원하기 위한 다양한 정책이 예상되지만, 구체적인 내용은 정부의 발표를 기다려야 합니다. 실제 정책이 발표되면 자세한 내용을 확인하고 적용 방법 등을 공유해 드릴 수 있을 것입니다.'"
      ]
     },
     "execution_count": 47,
     "metadata": {},
     "output_type": "execute_result"
    }
   ],
   "source": [
    "chain.invoke({\"input\": \"2024년 청년 지원 정책에 대해 알려줘\"})"
   ]
  },
  {
   "cell_type": "markdown",
   "metadata": {},
   "source": [
    "# 검색하기"
   ]
  },
  {
   "cell_type": "code",
   "execution_count": 48,
   "metadata": {},
   "outputs": [],
   "source": [
    "from langchain_community.document_loaders import WebBaseLoader\n",
    "loader = WebBaseLoader(\"https://www.moel.go.kr/policy/policyinfo/support/list4.do\")"
   ]
  },
  {
   "cell_type": "code",
   "execution_count": 49,
   "metadata": {},
   "outputs": [],
   "source": [
    "docs = loader.load()"
   ]
  },
  {
   "cell_type": "code",
   "execution_count": 50,
   "metadata": {},
   "outputs": [
    {
     "data": {
      "text/plain": [
       "[Document(page_content='\\n\\n\\n\\n\\n\\n\\n\\n\\n\\n\\n내일을 위한 고용노동부 - 고용노동부가 밝은 미래를 열어드립니다\\n\\n\\n\\n\\n\\n\\n\\n\\n\\n\\n\\n\\n\\n\\n\\n\\n\\n\\n\\n\\n\\n\\n\\n\\n\\n\\n\\n\\n\\n\\n\\n\\n\\n\\n\\n\\n\\n\\n\\n\\n\\n\\n\\n\\n\\n\\n반복영역 건너뛰기\\n주메뉴 바로가기\\n본문 바로가기\\n\\n\\n\\n\\n이 누리집은 대한민국 공식 전자정부 누리집입니다.\\n\\n\\n\\n\\n\\n\\n\\n\\n\\n\\n\\n\\n\\n\\n\\n고용노동부\\n\\n통합검색 열기\\n\\n\\n\\n추천\\n\\n\\n\\n\\n검색 내역 삭제하기\\n\\n검색하기\\n\\n\\n\\n\\n\\n내가 찾은 검색어\\n\\n\\n최근 검색어가 없습니다.\\n\\n\\n인기 검색어\\n\\n\\n\\n\\n닫기\\n\\n통합검색 닫기\\n\\n\\n\\n누리집 안내지도\\n국가상징 알아보기\\n\\n\\n\\n\\n\\n\\n\\n\\n홈으로\\n\\n\\n\\n영문 홈페이지\\n누리집 안내지도\\n\\n\\n\\n\\n민원\\n\\n\\n이용안내\\n\\n민원신청\\n\\n신고센터\\n\\n나의민원\\n\\n지방청/고용센터찾기\\n\\n자주하는 질문\\n\\n\\n\\n국민참여\\n\\n\\n정부포상 365일 추천창구\\n\\n규제혁신\\n\\n규제혁신과제\\n규제혁신성과\\n규제혁신제안\\n규제입증요청\\n\\n\\n정책참여\\n\\n칭찬합시다\\n\\n안전신문고\\n\\n적극행정\\n\\n제도소개\\n국민참여\\n적극행정 자료실\\n\\n\\n크리에이터 협업\\n\\n\\n\\n뉴스·소식\\n\\n\\n보도자료\\n\\n언론보도설명\\n\\n공지사항\\n\\n홍보자료\\n\\n홍보동영상\\n카드뉴스\\n월간내일(기관지)\\n뉴스레터\\n\\n\\n\\n\\n정보공개\\n\\n\\n사전정보 공표목록\\n\\n행정정보공개\\n\\n정보공개안내\\n정보목록\\n업무추진비공개\\n공무국외출장\\n상품권 구매ㆍ사용내역\\n\\n\\n정책실명제\\n\\n정책실명제 안내\\n중점관리 대상사업\\n\\n\\n청렴정책공개\\n\\n반부패청렴자료\\n청탁금지법 상담 및 조치\\n감사결과\\n부패행위현황\\n\\n\\n공공데이터개방\\n\\n공공데이터 포털\\n행정해석(질의회시)\\n주요발간자료\\n\\n\\n체불사업주 명단공개\\n\\n법령정보\\n\\n현행법령\\n최근제·개정법령\\n입법·행정예고\\n훈령·예규·고시\\n\\n\\n국고보조사업\\n\\n국고보조사업현황\\n국고보조사업공모현황\\n\\n\\n재정정보공개\\n\\n수입지출현황\\n사업설명자료\\n\\n\\n자산운용\\n\\n고용보험기금\\n산재보험기금\\n장애인고용기금\\n임금채권보장기금\\n\\n\\n고용노동통계\\n\\n기타정보\\n\\n자주찾는자료실\\n협동조합 경영공시\\n\\n\\n\\n\\n정책자료\\n\\n\\n국정과제\\n\\n정책추진방향\\n\\n대상자별 정책\\n\\n청년\\n신중년\\n장애인\\n여성\\n외국인\\n\\n\\n분야별 정책\\n\\n취업 및 채용지원\\n사업주지원\\n고용안전망\\n직업능력개발\\n근로조건개선\\n안심일터\\n노사관계\\n\\n\\n업무보고\\n\\n정책자료실\\n\\n노동개혁\\n\\n추진상황\\n보도 및 홍보자료\\n상생임금위원회\\n임금체계 개편\\n미래노동시장연구회\\n\\n\\ne-고용노동지표\\n\\n최신 고용노동 통계\\n고용률/실업률\\n근로감독/신고사건 현황\\n청년고용률 및 사업실적\\n\\n\\n\\n\\n기관소개\\n\\n\\n고용노동부는\\n\\n상징(MI) 및 청사진\\n연혁\\n예산·기금\\n\\n\\n장관소개\\n\\n차관소개\\n\\n조직안내\\n\\n본부\\n소속기관\\n직원검색\\n산하기관\\n\\n\\n찾아오시는 길\\n\\n\\n\\n이용안내\\n\\n\\n홈페이지 이용안내\\n\\n홈페이지배너모음\\n\\nRSS 서비스\\n\\n누리집 안내지도\\n\\n개인정보처리방침\\n\\n저작권정책\\n\\n품질인증\\n\\n고용노동행정서비스헌장\\n\\n모바일 앱모음\\n\\n본인확인\\n\\n알림판\\n\\n영상정보처리기기 운영ㆍ관리 방침 \\n\\n\\n\\n\\n전체 메뉴 닫기\\n\\n\\n\\n\\n\\n민원\\n\\n\\n\\n\\n\\n이용안내새창 열기\\n\\n\\n\\n\\n민원신청새창 열기\\n\\n\\n\\n\\n신고센터새창 열기\\n\\n\\n\\n\\n나의민원새창 열기\\n\\n\\n\\n\\n지방청/고용센터찾기새창 열기\\n\\n\\n\\n\\n자주하는 질문새창 열기\\n\\n\\n\\n\\n\\n\\n\\n국민참여\\n\\n\\n\\n\\n정부포상 365일 추천창구\\n\\n\\n규제혁신\\n\\n규제혁신과제\\n규제혁신성과\\n규제혁신제안\\n규제입증요청\\n\\n\\n\\n정책참여\\n\\n\\n칭찬합시다\\n\\n\\n\\n안전신문고새창 열기\\n\\n\\n\\n적극행정\\n\\n제도소개\\n국민참여\\n적극행정 자료실\\n\\n\\n\\n크리에이터 협업\\n\\n\\n\\n\\n\\n\\n뉴스·소식\\n\\n\\n\\n\\n보도자료\\n\\n\\n언론보도설명\\n\\n\\n공지사항\\n\\n\\n홍보자료\\n\\n홍보동영상\\n카드뉴스\\n월간내일(기관지)\\n뉴스레터새창 열기\\n\\n\\n\\n\\n\\n\\n\\n정보공개\\n\\n\\n\\n\\n사전정보 공표목록\\n\\n\\n행정정보공개\\n\\n정보공개안내\\n정보목록\\n업무추진비공개\\n공무국외출장\\n상품권 구매ㆍ사용내역\\n\\n\\n\\n정책실명제\\n\\n정책실명제 안내\\n중점관리 대상사업\\n\\n\\n\\n청렴정책공개\\n\\n반부패청렴자료\\n청탁금지법 상담 및 조치\\n감사결과\\n부패행위현황\\n\\n\\n\\n공공데이터개방\\n\\n공공데이터 포털\\n행정해석(질의회시)\\n주요발간자료\\n\\n\\n\\n체불사업주 명단공개\\n\\n\\n법령정보\\n\\n현행법령\\n최근제·개정법령\\n입법·행정예고\\n훈령·예규·고시\\n\\n\\n\\n국고보조사업\\n\\n국고보조사업현황\\n국고보조사업공모현황\\n\\n\\n\\n재정정보공개\\n\\n수입지출현황\\n사업설명자료\\n\\n\\n\\n자산운용\\n\\n고용보험기금\\n산재보험기금\\n장애인고용기금\\n임금채권보장기금\\n\\n\\n\\n\\n고용노동통계새창 열기\\n\\n\\n\\n기타정보\\n\\n자주찾는자료실\\n협동조합 경영공시\\n\\n\\n\\n\\n\\n\\n\\n정책자료\\n\\n\\n\\n\\n국정과제\\n\\n\\n정책추진방향\\n\\n\\n대상자별 정책\\n\\n청년\\n신중년\\n장애인\\n여성\\n외국인\\n\\n\\n\\n분야별 정책\\n\\n취업 및 채용지원\\n사업주지원\\n고용안전망\\n직업능력개발\\n근로조건개선\\n안심일터\\n노사관계\\n\\n\\n\\n업무보고\\n\\n\\n정책자료실\\n\\n\\n노동개혁\\n\\n추진상황\\n보도 및 홍보자료\\n상생임금위원회\\n임금체계 개편\\n미래노동시장연구회\\n\\n\\n\\n\\ne-고용노동지표새창 열기\\n\\n\\n최신 고용노동 통계새창 열기\\n고용률/실업률새창 열기\\n근로감독/신고사건 현황새창 열기\\n청년고용률 및 사업실적새창 열기\\n\\n\\n\\n\\n\\n\\n\\n기관소개\\n\\n\\n\\n\\n고용노동부는\\n\\n상징(MI) 및 청사진\\n연혁\\n예산·기금\\n\\n\\n\\n장관소개\\n\\n\\n차관소개\\n\\n\\n조직안내\\n\\n본부\\n소속기관\\n직원검색\\n산하기관\\n\\n\\n\\n찾아오시는 길\\n\\n\\n\\n\\n\\n\\n이용안내\\n\\n\\n\\n\\n홈페이지 이용안내\\n\\n\\n홈페이지배너모음\\n\\n\\nRSS 서비스\\n\\n\\n누리집 안내지도\\n\\n\\n개인정보처리방침\\n\\n\\n저작권정책\\n\\n\\n품질인증\\n\\n\\n고용노동행정서비스헌장\\n\\n\\n모바일 앱모음\\n\\n\\n본인확인\\n\\n\\n알림판\\n\\n\\n영상정보처리기기 운영ㆍ관리 방침 \\n\\n\\n\\n\\n\\n\\n\\n\\nENG\\n\\n\\n\\n\\n\\n\\n\\n\\n홈으로 이동\\n\\n\\n정책자료\\n\\n국민참여\\n\\n\\n\\n분야별 정책\\n\\n국정과제\\n정책추진방향\\n대상자별 정책\\n분야별 정책\\n업무보고\\n정책자료실\\n노동개혁\\ne-고용노동지표\\n\\n\\n\\n취업 및 채용지원\\n\\n\\n\\n\\n\\n기능버튼모음\\n\\n화면 확대\\n화면크기 원래상태로\\n화면축소\\n현재 페이지 프린트\\n\\n\\n\\n\\n\\n\\n\\n\\n\\n\\n본문\\n\\n\\n\\n정책자료\\n\\n\\n국정과제\\n\\n\\n정책추진방향\\n\\n\\n대상자별 정책열기/닫기\\n\\n\\n\\n청년\\n\\n\\n\\n\\n신중년\\n\\n\\n\\n\\n장애인\\n\\n\\n\\n\\n여성\\n\\n\\n\\n\\n외국인\\n\\n\\n\\n\\n\\n분야별 정책열기/닫기\\n\\n\\n\\n취업 및 채용지원\\n\\n\\n\\n\\n사업주지원\\n\\n\\n\\n\\n고용안전망\\n\\n\\n\\n\\n직업능력개발\\n\\n\\n\\n\\n근로조건개선\\n\\n\\n\\n\\n안심일터\\n\\n\\n\\n\\n노사관계\\n\\n\\n\\n\\n\\n업무보고\\n\\n\\n정책자료실\\n\\n\\n노동개혁열기/닫기\\n\\n\\n\\n추진상황\\n\\n\\n\\n\\n보도 및 홍보자료\\n\\n\\n\\n\\n상생임금위원회\\n\\n\\n\\n\\n임금체계 개편\\n\\n\\n\\n\\n미래노동시장연구회\\n\\n\\n\\n\\n\\ne-고용노동지표열기/닫기\\n\\n최신 고용노동 통계\\n고용률/실업률\\n근로감독/신고사건 현황\\n청년고용률 및 사업실적\\n\\n\\n\\n\\n열기/닫기\\n\\n\\n\\n본문\\n\\n\\n\\n\\n\\r\\n            \\t\\t\\t\\t\\t\\r\\n            \\t\\t\\t\\t\\t\\t\\t취업 및 채용지원\\r\\n            \\t\\t\\t\\t\\t\\t\\r\\n            \\t\\t\\t\\t\\n\\r\\n              \\t\\t\\t\\t\\r\\n              \\t\\t\\t\\t\\t\\t고용노동부의 분야별 정책입니다.\\r\\n              \\t\\t\\t\\t\\r\\n              \\t\\t\\t\\n\\n\\n\\n맞춤형 취업 및 채용지원 서비스\\n\\n국민취업지원제도\\n\\n사업목적\\n저소득 구직자 등 취업취약계층에게 통합적인 취업지원서비스를 제공하고 생계를 지원함으로써 이들의 구직활동 및 생활안정 지원\\n지원대상(수급자격 요건)\\n근로능력과 구직의사가 있음에도 불구하고 취업하지 못한 자 중 아래 요건을 충족한 자\\n\\n지원대상을 나타낸 표입니다. 필요요건, 연령, 가구담위 소득, 가구원재산, 취업경험으로 구분되어 있습니다.\\n\\n\\n\\n\\n\\n\\n\\n\\n\\n\\n\\n필요요건\\n연령\\n가구단위 소득\\n가구원 재산\\n취업경험\\n\\n\\n\\n\\nⅠ유형\\n요건심사형\\n15~69세\\n중위소득 60%이하\\n4억원 이하(청년 5억원 이하)\\n최근 2년 이내 100일 또는 800시간 이상\\n\\n\\n선발형\\n비경활\\n15~69세\\n중위소득 60% 이하\\n4억원 이하\\n최근 2년 이내 100일 또는 800시간 미만\\n\\n\\n청년\\n18~34세\\n중위소득 120% 이하\\n5억원 이하\\nX\\n\\n\\nⅡ유형\\n특정계층\\n15~69세\\nX\\nX\\nX\\n\\n\\n청년\\n18~34세\\nX\\n\\n\\n중장년\\n35~69세\\n중위소득 100% 이하\\n\\n\\n\\n지원내용\\n취업지원서비스 및 소득지원을 결합하여 지원\\n\\n지원내용을 나타낸 표입니다. 구분, 취업지원서비스, 생계지원으로 구분되어 있습니다.\\n\\n\\n\\n\\n\\n\\n\\n구분\\n취업지원서비스\\n생계지원\\n\\n\\n\\n\\nI유형\\n\\n\\n상담·진단을 통해 취업역량 파악,  취업지원 경로(IAP) 설정\\n직업훈련·일경험·창업·해외취업 및 복지프로그램(생계, 의료, 금융, 돌봄서비스 등) 등 연계\\n구직활동지원 프로그램 연계 및 집중취업알선 진행 등\\n\\n\\n\\n\\n\\n(구직촉진수당) 월50만원 + 부양가족* 1인당 10만원(월 최대 40만원) 추가지원 × 6개월\\r\\n\\t\\t\\t\\t\\t\\t\\t*부양가족: 18세 이하, 70세 이상, 중증장애인\\n\\n(조기취업성공수당) 취업활동계획 수립 후 3개월 내 취업시 잔여 구직촉진수당의 50% 지급\\n(취업성공수당) 최대 150만원(중위소득 60%이하)\\n\\n\\n\\n\\nII유형\\n\\n\\n\\n(취업활동비용) 최대 195.4만원*\\r\\n\\t\\t\\t\\t\\t\\t\\t* 취업활동계획 수립 참여수당 15~25만원, 직업훈련 참여지원수당(월28.4만원x6개월) 등\\n\\n(조기취업성공수당) 취업활동계획 수립 후 3개월 내 취업시 50만원(생계급여 조건부수급자)\\n(취업성공수당) 최대 150만원(중위소득 60%이하 및 특정계층)\\n\\n\\n\\n\\n\\n사업추진체계\\n\\n\\n지원신청(고용센터 or 온라인)\\n\\n\\n수급자격 조사\\n\\n\\n수급자격 결정∙통지\\n\\n\\n취업활동계획 수립\\n\\n\\n구직활동 이행\\n\\n\\n수당 지급\\n\\n\\n문의처\\n고용노동부 고객상담센터 (TEL. 국번없이 1350)\\n고용복지+센터 홈페이지 (www.workplus.go.kr) \\n국민취업지원제도  홈페이지 (www.kua.go.kr) \\n\\n\\n 목록 \\n\\n\\n\\n\\n\\n\\n\\n\\n\\n\\n\\n\\n\\n\\n\\n\\n소속기관(지청,위원회)\\n\\n\\n서울지방고용노동청\\n서울강남지청\\n서울동부지청\\n서울서부지청\\n서울남부지청\\n서울북부지청\\n서울관악지청\\n중부지방고용노동청\\n인천북부지청\\n부천지청\\n의정부지청\\n고양지청\\n경기지청\\n성남지청\\n안양지청\\n안산지청\\n평택지청\\n강원지청\\n강릉지청\\n원주지청\\n태백지청\\n영월출장소\\n부산지방고용노동청\\n부산동부지청\\n부산북부지청\\n창원지청\\n울산지청\\n양산지청\\n진주지청\\n통영지청\\n대구지방고용노동청\\n대구서부지청\\n포항지청\\n구미지청\\n영주지청\\n안동지청\\n광주지방고용노동청\\n전주지청\\n익산지청\\n군산지청\\n목포지청\\n여수지청\\n대전지방고용노동청\\n청주지청\\n천안지청\\n충주지청\\n보령지청\\n서산출장소\\n중앙노동위원회\\n최저임금위원회\\n산업재해보상보험재심사위원회\\n고용보험심사위원회\\n\\n\\n\\n\\n\\n\\n업무별 누리집\\n\\n\\n고용보험 서비스[EI]\\n고용노동통계\\n고용센터\\n직업훈련포탈[HRD-NET]\\n외국인고용관리시스템[EPS]\\n워크넷[WORKNET]\\n월드잡\\n임금직무정보시스템\\n지역고용정보네트워크\\n커리어넷\\n한국직업방송\\n국민취업지원제도\\n온라인청년센터\\n가사랑\\n\\n\\n\\n\\n\\n\\n산하기관,관련단체\\n\\n\\n근로복지공단\\n노사발전재단\\n건설근로자공제회\\n한국직업능력연구원\\n한국잡월드\\n한국고용노동교육원\\n한국기술교육대학교\\n한국폴리텍대학\\n한국사회적기업진흥원\\n한국고용정보원\\n한국장애인고용공단\\n한국산업안전보건공단\\n한국산업인력공단\\n경제사회노동위원회\\n\\n\\n\\n\\n\\n\\n정부기관\\n\\n\\n대통령실\\n국회\\n대법원\\n감사원\\n국가정보원\\n국가인권위원회\\n방송통신위원회\\n중앙선거관리위원회\\n헌법재판소\\n국무조정실\\n기획재정부\\n과학기술정보통신부\\n교육부\\n외교부\\n통일부\\n법무부\\n국방부\\n행정안전부\\n문화체육관광부\\n농림축산식품부\\n산업통상자원부\\n보건복지부\\n환경부\\n해양수산부\\n여성가족부\\n국토교통부\\n중소벤처기업부\\n국가보훈처\\n법제처\\n식품의약품안전처\\n공정거래위원회\\n금융위원회\\n규제혁신추진단\\n\\n\\n\\n\\n\\n\\n\\n\\n\\n이용안내\\n고용노동행정서비스헌장\\n개인정보처리방침\\n영상정보처리기기 운영ㆍ관리 방침\\n저작권정책\\n\\n\\n유튜브\\n페이스북\\n트위터\\n블로그\\n인스타그램\\n\\n\\n\\n\\n\\n\\n\\n(우)30117 세종특별자치시 한누리대로 422 정부세종청사 11동 고용노동부\\n\\n\\n고객상담센터\\n1350(유료)\\n\\n\\n당직실\\n044-202-7999\\u200b\\u200b (당직근무시간 평일 18시 ~ 익일 09시, 주말ㆍ공휴일 24시)\\n\\n\\n\\n\\n\\n\\n\\n\\nCopyright(c)Ministry of Employment and Labor. All rights reserved.\\n\\n\\n\\n\\n\\n\\n\\n', metadata={'source': 'https://www.moel.go.kr/policy/policyinfo/support/list4.do', 'title': '내일을 위한 고용노동부 - 고용노동부가 밝은 미래를 열어드립니다', 'language': 'ko'})]"
      ]
     },
     "execution_count": 50,
     "metadata": {},
     "output_type": "execute_result"
    }
   ],
   "source": [
    "docs"
   ]
  },
  {
   "cell_type": "code",
   "execution_count": 52,
   "metadata": {},
   "outputs": [],
   "source": [
    "from langchain_openai import OpenAIEmbeddings\n",
    "embeddings = OpenAIEmbeddings(openai_api_key=api_key)"
   ]
  },
  {
   "cell_type": "code",
   "execution_count": 53,
   "metadata": {},
   "outputs": [],
   "source": [
    "from langchain_community.vectorstores import FAISS\n",
    "from langchain_text_splitters import RecursiveCharacterTextSplitter\n",
    "\n",
    "\n",
    "text_splitter = RecursiveCharacterTextSplitter()\n",
    "documents = text_splitter.split_documents(docs)\n",
    "vector = FAISS.from_documents(documents, embeddings)"
   ]
  },
  {
   "cell_type": "code",
   "execution_count": 54,
   "metadata": {},
   "outputs": [
    {
     "data": {
      "text/plain": [
       "<langchain_community.vectorstores.faiss.FAISS at 0x10da4cd10>"
      ]
     },
     "execution_count": 54,
     "metadata": {},
     "output_type": "execute_result"
    }
   ],
   "source": [
    "vector"
   ]
  },
  {
   "cell_type": "code",
   "execution_count": 56,
   "metadata": {},
   "outputs": [],
   "source": [
    "from langchain.chains.combine_documents import create_stuff_documents_chain\n",
    "\n",
    "prompt = ChatPromptTemplate.from_template(\"\"\"Answer the following question based only on the provided context:\n",
    "\n",
    "<context>\n",
    "{context}\n",
    "</context>\n",
    "\n",
    "Question: {input}\"\"\")\n",
    "\n",
    "document_chain = create_stuff_documents_chain(llm, prompt)"
   ]
  },
  {
   "cell_type": "code",
   "execution_count": 57,
   "metadata": {},
   "outputs": [
    {
     "data": {
      "text/plain": [
       "'국민취업지원제도는 취업을 원하는 사람에게 취업지원서비스를 제공하고 저소득 구직자에게는 최소한의 소득도 지원하는 한국형 실업부조입니다. 2024년부터는 15~69세 저소득층, 청년 등 취업취약계층에게 맞춤형 취업지원서비스와 소득지원을 함께 제공할 것입니다.'"
      ]
     },
     "execution_count": 57,
     "metadata": {},
     "output_type": "execute_result"
    }
   ],
   "source": [
    "# 바로 Docs 내용을 반영도 가능합니다.\n",
    "from langchain_core.documents import Document\n",
    "\n",
    "document_chain.invoke({\n",
    "    \"input\": \"국민취업지원제도가 뭐야\",\n",
    "    \"context\": [Document(page_content=\"\"\"국민취업지원제도란?\n",
    "\n",
    "취업을 원하는 사람에게 취업지원서비스를 일괄적으로 제공하고 저소득 구직자에게는 최소한의 소득도 지원하는 한국형 실업부조입니다. 2024년부터 15~69세 저소득층, 청년 등 취업취약계층에게 맞춤형 취업지원서비스와 소득지원을 함께 제공합니다.\n",
    "[출처] 2024년 달라지는 청년 지원 정책을 확인하세요.|작성자 정부24\"\"\")]\n",
    "})"
   ]
  },
  {
   "cell_type": "code",
   "execution_count": 58,
   "metadata": {},
   "outputs": [],
   "source": [
    "from langchain.chains import create_retrieval_chain\n",
    "\n",
    "retriever = vector.as_retriever()\n",
    "retrieval_chain = create_retrieval_chain(retriever, document_chain)"
   ]
  },
  {
   "cell_type": "code",
   "execution_count": 59,
   "metadata": {},
   "outputs": [
    {
     "name": "stdout",
     "output_type": "stream",
     "text": [
      "국민취업지원제도는 저소득 구직자 등 취업취약계층에게 통합적인 취업지원서비스를 제공하고 생계를 지원함으로써 이들의 구직활동 및 생활안정을 지원하는 제도입니다. 이를 통해 취업지원서비스와 소득지원을 결합하여 지원합니다.\n"
     ]
    }
   ],
   "source": [
    "response = retrieval_chain.invoke({\"input\": \"국민취업지원제도가 뭐야\"})\n",
    "print(response[\"answer\"])\n",
    "\n",
    "# LangSmith offers several features that can help with testing:..."
   ]
  },
  {
   "cell_type": "markdown",
   "metadata": {},
   "source": [
    "참고 사이트 : https://python.langchain.com/docs/expression_language/cookbook/"
   ]
  },
  {
   "cell_type": "code",
   "execution_count": null,
   "metadata": {},
   "outputs": [],
   "source": []
  }
 ],
 "metadata": {
  "kernelspec": {
   "display_name": "gptenv",
   "language": "python",
   "name": "python3"
  },
  "language_info": {
   "codemirror_mode": {
    "name": "ipython",
    "version": 3
   },
   "file_extension": ".py",
   "mimetype": "text/x-python",
   "name": "python",
   "nbconvert_exporter": "python",
   "pygments_lexer": "ipython3",
   "version": "3.11.5"
  }
 },
 "nbformat": 4,
 "nbformat_minor": 2
}
